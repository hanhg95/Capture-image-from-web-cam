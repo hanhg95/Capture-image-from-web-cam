{
 "cells": [
  {
   "cell_type": "code",
   "execution_count": 2,
   "metadata": {},
   "outputs": [],
   "source": [
    "# %%\n",
    "import sys\n",
    "! pip install tk pygame opencv-python\n",
    "\n",
    "import tkinter as tk\n",
    "import tkinter.filedialog as filedialog\n",
    "from tkinter import messagebox\n",
    "import cv2\n",
    "import pygame\n",
    "import pygame.camera\n",
    "import time\n",
    "from time import sleep\n",
    "\n",
    "\n",
    "\n",
    "pygame.camera.init()\n",
    "camera_list = pygame.camera.list_cameras()\n",
    "number_of_cameras = len(camera_list)\n",
    "\n",
    "def select_folder():\n",
    "    global folder_path\n",
    "    folder_path = filedialog.askdirectory()\n",
    "    folder_label.config(text=\"Selected folder: \" + folder_path)\n",
    "\n",
    "def start_capture():\n",
    "    selected_camera = int(camera_var.get())\n",
    "    capture_interval = int(interval_entry.get())\n",
    "    capture_duration = int(duration_entry.get())\n",
    "    cap = cv2.VideoCapture(selected_camera)\n",
    "    \n",
    "    if not cap.isOpened():\n",
    "        messagebox.showerror(\"Error\", \"Error opening the selected Camera\")\n",
    "        return\n",
    "    \n",
    "    total_frames = int(capture_duration / capture_interval)\n",
    "    for i in range(total_frames):\n",
    "        ret, frame = cap.read()\n",
    "        if not ret:\n",
    "            messagebox.showerror(\"Error\", \"Error  frame\")\n",
    "            break\n",
    "        cv2.imwrite(folder_path + \"/frame{}.jpg\".format(i), frame)\n",
    "        sleep(capture_interval)\n",
    "    cap.release()\n",
    "    messagebox.showinfo(\"Information\", \" Completed\")\n",
    "\n",
    "app = tk.Tk()\n",
    "app.title(\"Study With Me\")\n",
    "\n",
    "camera_var = tk.StringVar()\n",
    "camera_var.set(\"0\")\n",
    "\n",
    "camera_label = tk.Label(text=\"Select Camera:\")\n",
    "camera_label.pack()\n",
    "\n",
    "camera_options = [str(i) for i in range(number_of_cameras)]\n",
    "for option in camera_options:\n",
    "    camera_radiobutton = tk.Radiobutton(text=option, variable=camera_var, value=option)\n",
    "    camera_radiobutton.pack()\n",
    "\n",
    "folder_label = tk.Label(text=\"Select folder to save image:\")\n",
    "folder_label.pack()\n",
    "\n",
    "folder_button = tk.Button(text=\"Select folder\", command=select_folder)\n",
    "folder_button.pack()\n",
    "\n",
    "interval_label = tk.Label(text=\"Enter time interval  (in seconds):\")\n",
    "interval_label.pack()\n",
    "\n",
    "interval_entry = tk.Entry(width=10)\n",
    "interval_entry.pack()\n",
    "\n",
    "duration_label = tk.Label(text=\"Enter working time (in seconds):\")\n",
    "duration_label.pack()\n",
    "\n",
    "duration_entry = tk.Entry(width=10)\n",
    "duration_entry.pack()\n",
    "\n",
    "start_button = tk.Button(text=\"Start \", command=start_capture)\n",
    "start_button.pack()\n",
    "\n",
    "app.mainloop()\n",
    "\n",
    "\n",
    "\n"
   ]
  },
  {
   "cell_type": "code",
   "execution_count": 12,
   "metadata": {},
   "outputs": [
    {
     "name": "stdout",
     "output_type": "stream",
     "text": [
      "Defaulting to user installation because normal site-packages is not writeable\n",
      "Requirement already satisfied: tk in c:\\users\\hanav\\appdata\\roaming\\python\\python39\\site-packages (0.1.0)\n",
      "Requirement already satisfied: pygame in c:\\users\\hanav\\appdata\\roaming\\python\\python39\\site-packages (2.1.2)\n",
      "Requirement already satisfied: opencv-python in c:\\users\\hanav\\appdata\\roaming\\python\\python39\\site-packages (4.7.0.68)\n",
      "Requirement already satisfied: numpy>=1.17.0 in c:\\users\\hanav\\appdata\\roaming\\python\\python39\\site-packages (from opencv-python) (1.24.1)\n"
     ]
    }
   ],
   "source": []
  }
 ],
 "metadata": {
  "kernelspec": {
   "display_name": "Python 3",
   "language": "python",
   "name": "python3"
  },
  "language_info": {
   "codemirror_mode": {
    "name": "ipython",
    "version": 3
   },
   "file_extension": ".py",
   "mimetype": "text/x-python",
   "name": "python",
   "nbconvert_exporter": "python",
   "pygments_lexer": "ipython3",
   "version": "3.9.7"
  },
  "orig_nbformat": 4,
  "vscode": {
   "interpreter": {
    "hash": "c347c8f9a7ef94e4c9e03b4513be7835ed18f45b99a2a817fb579f408b867b16"
   }
  }
 },
 "nbformat": 4,
 "nbformat_minor": 2
}
